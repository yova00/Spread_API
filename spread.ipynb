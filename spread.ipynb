{
 "cells": [
  {
   "cell_type": "code",
   "execution_count": 1,
   "metadata": {},
   "outputs": [
    {
     "data": {
      "text/plain": [
       "array(['btc-clp', 'btc-cop', 'eth-clp', 'eth-btc', 'btc-pen', 'eth-pen',\n",
       "       'eth-cop', 'bch-btc', 'bch-clp', 'bch-cop', 'bch-pen', 'btc-ars',\n",
       "       'eth-ars', 'bch-ars', 'ltc-btc', 'ltc-clp', 'ltc-cop', 'ltc-pen',\n",
       "       'ltc-ars', 'usdc-clp', 'usdc-cop', 'usdc-pen', 'usdc-ars',\n",
       "       'btc-usdc', 'usdt-usdc'], dtype=object)"
      ]
     },
     "execution_count": 1,
     "metadata": {},
     "output_type": "execute_result"
    }
   ],
   "source": [
    "import requests\n",
    "import pandas as pd\n",
    "\n",
    "url = 'https://www.buda.com/api/v2/markets'\n",
    "response = requests.get(url)\n",
    "\n",
    "df_mercado = pd.DataFrame(response.json()['markets'])\n",
    "df_mercado['name'].unique()"
   ]
  },
  {
   "cell_type": "code",
   "execution_count": 2,
   "metadata": {},
   "outputs": [
    {
     "name": "stdout",
     "output_type": "stream",
     "text": [
      "Spread para btc-clp: 218754.0\n"
     ]
    }
   ],
   "source": [
    "market_id = 'btc-clp'\n",
    "url_market = f'https://www.buda.com/api/v2/markets/{market_id}/ticker'\n",
    "def spread(market_id):\n",
    "    response = requests.get(url_market)\n",
    "    if response.status_code == 200:\n",
    "        data = response.json()\n",
    "        spread = float(data['ticker']['min_ask'][0]) - float(data['ticker']['max_bid'][0])\n",
    "        return spread\n",
    "    else:\n",
    "        print(f\"ERROR: No se puede obtener datos. \")\n",
    "        return 0\n",
    "\n",
    "df_spread = spread(market_id)\n",
    "print(f\"Spread para {market_id}: {df_spread}\")\n"
   ]
  },
  {
   "cell_type": "code",
   "execution_count": 3,
   "metadata": {},
   "outputs": [
    {
     "name": "stdout",
     "output_type": "stream",
     "text": [
      "Lista de spreads:\n",
      "BTC-CLP: 218754.0\n",
      "BTC-COP: 1462857.019999981\n",
      "ETH-CLP: 34221.0\n",
      "ETH-BTC: 0.00047536000000000106\n",
      "BTC-PEN: 4265.649999999994\n",
      "ETH-PEN: 353.8899999999994\n",
      "ETH-COP: 6006.3300000000745\n",
      "BCH-BTC: 7.085999999999985e-05\n",
      "BCH-CLP: 4301.0\n",
      "BCH-COP: 27469.640000000014\n",
      "BCH-PEN: 48.50999999999999\n",
      "BTC-ARS: 0.0\n",
      "ETH-ARS: 0.0\n",
      "BCH-ARS: 0.0\n",
      "LTC-BTC: 4.4800000000000005e-05\n",
      "LTC-CLP: 516.8600000000006\n",
      "LTC-COP: 777.0\n",
      "LTC-PEN: 9.310000000000002\n",
      "LTC-ARS: 0.0\n",
      "USDC-CLP: 3.9300000000000637\n",
      "USDC-COP: 16.0\n",
      "USDC-PEN: 0.06999999999999984\n",
      "USDC-ARS: 0.0\n",
      "BTC-USDC: 302.3199999999997\n",
      "USDT-USDC: 0.0005999999999999339\n"
     ]
    }
   ],
   "source": [
    "import requests\n",
    "\n",
    "def spread_mercados():\n",
    "    # Obtener la lista de mercados\n",
    "    markets_url = 'https://www.buda.com/api/v2/markets'\n",
    "    markets_response = requests.get(markets_url)\n",
    "    \n",
    "    if markets_response.status_code == 200:\n",
    "        markets_data = markets_response.json()\n",
    "        spreads = {}\n",
    "\n",
    "        for mercado in markets_data.get('markets', []):\n",
    "            market_id = mercado.get('id')\n",
    "            if market_id:\n",
    "\n",
    "                ticker_url = f'https://www.buda.com/api/v2/markets/{market_id}/ticker'\n",
    "                ticker_response = requests.get(ticker_url)\n",
    "                \n",
    "                if ticker_response.status_code == 200:\n",
    "                    ticker_data = ticker_response.json().get('ticker', {})\n",
    "                    \n",
    "                    if 'min_ask' in ticker_data and 'max_bid' in ticker_data:\n",
    "\n",
    "                        min_ask = float(ticker_data['min_ask'][0])\n",
    "                        max_bid = float(ticker_data['max_bid'][0])\n",
    "                        spread = min_ask - max_bid\n",
    "                        spreads[market_id] = spread\n",
    "                else:\n",
    "                    print(\"ERROR: No se puede obtener datos del ticker.\")\n",
    "                    \n",
    "        return spreads\n",
    "    else:\n",
    "        print(\"ERROR: No se puede obtener datos de los mercados.\")\n",
    "        return None\n",
    "\n",
    "\n",
    "spreads_mercados = spread_mercados()\n",
    "\n",
    "if spreads_mercados:\n",
    "    print(\"Lista de spreads:\")\n",
    "    for market_id, spread in spreads_mercados.items():\n",
    "        print(f\"{market_id}: {spread}\")\n",
    "else:\n",
    "    print(\"ERROR: No se puede obtener la lista.\")\n",
    "\n"
   ]
  },
  {
   "cell_type": "code",
   "execution_count": 4,
   "metadata": {},
   "outputs": [
    {
     "name": "stdout",
     "output_type": "stream",
     "text": [
      "Spread de alerta guardado: 10000\n",
      "¡Alerta! El spread actual (207663.0) es mayor que el spread de alerta (10000.0).\n"
     ]
    }
   ],
   "source": [
    "import requests\n",
    "import time\n",
    "\n",
    "def obtener_spread(market_id):\n",
    "    url = f'https://www.buda.com/api/v2/markets/{market_id}/ticker'\n",
    "    response = requests.get(url)\n",
    "    \n",
    "    if response.status_code == 200:\n",
    "        data = response.json().get('ticker', {})\n",
    "        last_price = float(data.get('last_price', [0])[0])\n",
    "        max_bid = float(data.get('max_bid', [0])[0])\n",
    "        spread = last_price - max_bid\n",
    "        return spread\n",
    "    else:\n",
    "        print(f\"Error al obtener el spread para {market_id}. Código de estado: {response.status_code}\")\n",
    "        return None\n",
    "\n",
    "def obtener_spread_alerta():\n",
    "    try:\n",
    "        with open('spread_alerta.txt', 'r') as file:\n",
    "            spread_alerta = float(file.read())\n",
    "        return spread_alerta\n",
    "    except FileNotFoundError:\n",
    "        return None\n",
    "    except Exception as e:\n",
    "        print(f\"Error al leer el archivo de spread de alerta: {e}\")\n",
    "        return None\n",
    "\n",
    "def guardar_spread_alerta(spread_alerta):\n",
    "    try:\n",
    "        with open('spread_alerta.txt', 'w') as file:\n",
    "            file.write(str(spread_alerta))\n",
    "        print(f\"Spread de alerta guardado: {spread_alerta}\")\n",
    "    except Exception as e:\n",
    "        print(f\"Error al guardar el spread de alerta en el archivo: {e}\")\n",
    "\n",
    "def realizar_polling(market_id, intervalo_polling=60):\n",
    "    while True:\n",
    "        spread_actual = obtener_spread(market_id)\n",
    "        spread_alerta = obtener_spread_alerta()\n",
    "\n",
    "        if spread_actual is not None and spread_alerta is not None:\n",
    "            if spread_actual > spread_alerta:\n",
    "                print(f\"¡Alerta! El spread actual ({spread_actual}) es mayor que el spread de alerta ({spread_alerta}).\")\n",
    "            elif spread_actual < spread_alerta:\n",
    "                print(f\"¡Alerta! El spread actual ({spread_actual}) es menor que el spread de alerta ({spread_alerta}).\")\n",
    "\n",
    "        time.sleep(intervalo_polling)\n",
    "\n",
    "market_id_ejemplo = 'btc-clp'\n",
    "spread_alerta_ejemplo = 10000  \n",
    "\n",
    "guardar_spread_alerta(spread_alerta_ejemplo)\n",
    "realizar_polling(market_id_ejemplo)\n"
   ]
  }
 ],
 "metadata": {
  "kernelspec": {
   "display_name": "Python 3",
   "language": "python",
   "name": "python3"
  },
  "language_info": {
   "codemirror_mode": {
    "name": "ipython",
    "version": 3
   },
   "file_extension": ".py",
   "mimetype": "text/x-python",
   "name": "python",
   "nbconvert_exporter": "python",
   "pygments_lexer": "ipython3",
   "version": "3.11.7"
  }
 },
 "nbformat": 4,
 "nbformat_minor": 2
}
