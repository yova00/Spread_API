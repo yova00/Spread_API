{
 "cells": [
  {
   "cell_type": "markdown",
   "metadata": {},
   "source": [
    "Realizar conexion a la API"
   ]
  },
  {
   "cell_type": "code",
   "execution_count": 1,
   "metadata": {},
   "outputs": [
    {
     "data": {
      "text/plain": [
       "array(['btc-clp', 'btc-cop', 'eth-clp', 'eth-btc', 'btc-pen', 'eth-pen',\n",
       "       'eth-cop', 'bch-btc', 'bch-clp', 'bch-cop', 'bch-pen', 'btc-ars',\n",
       "       'eth-ars', 'bch-ars', 'ltc-btc', 'ltc-clp', 'ltc-cop', 'ltc-pen',\n",
       "       'ltc-ars', 'usdc-clp', 'usdc-cop', 'usdc-pen', 'usdc-ars',\n",
       "       'btc-usdc', 'usdt-usdc'], dtype=object)"
      ]
     },
     "execution_count": 1,
     "metadata": {},
     "output_type": "execute_result"
    }
   ],
   "source": [
    "import requests\n",
    "import pandas as pd\n",
    "import time\n",
    "\n",
    "url = 'https://www.buda.com/api/v2/markets'\n",
    "response = requests.get(url)\n",
    "\n",
    "df_mercado = pd.DataFrame(response.json()['markets'])\n",
    "df_mercado['name'].unique()"
   ]
  },
  {
   "cell_type": "markdown",
   "metadata": {},
   "source": [
    "1. Calcular spread de cualquiera de los mercados de Buda.com."
   ]
  },
  {
   "cell_type": "code",
   "execution_count": 2,
   "metadata": {},
   "outputs": [
    {
     "name": "stdout",
     "output_type": "stream",
     "text": [
      "Spread para btc-clp: 227544.0\n"
     ]
    }
   ],
   "source": [
    "market_id = 'btc-clp'\n",
    "url_market = f'https://www.buda.com/api/v2/markets/{market_id}/ticker'\n",
    "def spread_market(market_id):\n",
    "    response = requests.get(url_market)\n",
    "    if response.status_code == 200:\n",
    "        data = response.json()\n",
    "        spread = float(data['ticker']['min_ask'][0]) - float(data['ticker']['max_bid'][0])\n",
    "        return spread\n",
    "    else:\n",
    "        print(f\"ERROR: No se puede obtener datos.\")\n",
    "        return 0\n",
    "\n",
    "df_spread = spread_market(market_id)\n",
    "print(f\"Spread para {market_id}: {df_spread}\")\n"
   ]
  },
  {
   "cell_type": "markdown",
   "metadata": {},
   "source": [
    "2. Obtener el spread de todos los mercados en una sola llamada."
   ]
  },
  {
   "cell_type": "code",
   "execution_count": 3,
   "metadata": {},
   "outputs": [
    {
     "name": "stdout",
     "output_type": "stream",
     "text": [
      "Lista de spreads:\n",
      "BTC-CLP: 227544.0\n",
      "BTC-COP: 1827727.0\n",
      "ETH-CLP: 24217.01000000001\n",
      "ETH-BTC: 0.0007917399999999991\n",
      "BTC-PEN: 3535.899999999994\n",
      "ETH-PEN: 279.35000000000036\n",
      "ETH-COP: 270104.0\n",
      "BCH-BTC: 0.0005899\n",
      "BCH-CLP: 2346.890000000014\n",
      "BCH-COP: 35170.0\n",
      "BCH-PEN: 11.129999999999995\n",
      "BTC-ARS: 0.0\n",
      "ETH-ARS: 0.0\n",
      "BCH-ARS: 0.0\n",
      "LTC-BTC: 3.366000000000003e-05\n",
      "LTC-CLP: 343.0\n",
      "LTC-COP: 8406.090000000026\n",
      "LTC-PEN: 2.3100000000000023\n",
      "LTC-ARS: 0.0\n",
      "USDC-CLP: 4.610000000000014\n",
      "USDC-COP: 39.0\n",
      "USDC-PEN: 0.020000000000000018\n",
      "USDC-ARS: 0.0\n",
      "BTC-USDC: 587.2200000000012\n",
      "USDT-USDC: 0.0005999999999999339\n"
     ]
    }
   ],
   "source": [
    "def spread_mercados():\n",
    "\n",
    "    markets_url = 'https://www.buda.com/api/v2/markets'\n",
    "    markets_response = requests.get(markets_url)\n",
    "    \n",
    "    if markets_response.status_code == 200:\n",
    "        markets_data = markets_response.json()\n",
    "        spreads = {}\n",
    "\n",
    "        for mercado in markets_data.get('markets', []):\n",
    "            market_id = mercado.get('id')\n",
    "            if market_id:\n",
    "\n",
    "                ticker_url = f'https://www.buda.com/api/v2/markets/{market_id}/ticker'\n",
    "                ticker_response = requests.get(ticker_url)\n",
    "                \n",
    "                if ticker_response.status_code == 200:\n",
    "                    ticker_data = ticker_response.json().get('ticker', {})\n",
    "                    \n",
    "                    if 'min_ask' in ticker_data and 'max_bid' in ticker_data:\n",
    "\n",
    "                        min_ask = float(ticker_data['min_ask'][0])\n",
    "                        max_bid = float(ticker_data['max_bid'][0])\n",
    "                        spread = min_ask - max_bid\n",
    "                        spreads[market_id] = spread\n",
    "                else:\n",
    "                    print(\"ERROR: No se puede obtener datos del ticker.\")\n",
    "                    \n",
    "        return spreads\n",
    "    else:\n",
    "        print(\"ERROR: No se puede obtener datos de los mercados.\")\n",
    "        return None\n",
    "\n",
    "\n",
    "spreads_mercados = spread_mercados()\n",
    "\n",
    "if spreads_mercados:\n",
    "    print(\"Lista de spreads:\")\n",
    "    for market_id, spread in spreads_mercados.items():\n",
    "        print(f\"{market_id}: {spread}\")\n",
    "else:\n",
    "    print(\"ERROR: No se puede obtener la lista.\")\n",
    "\n"
   ]
  },
  {
   "cell_type": "markdown",
   "metadata": {},
   "source": [
    "3. Spread alerta"
   ]
  },
  {
   "cell_type": "code",
   "execution_count": 7,
   "metadata": {},
   "outputs": [
    {
     "name": "stdout",
     "output_type": "stream",
     "text": [
      "Spread de alerta guardado para btc-clp: alerta de 200000.\n",
      "¡Alerta! El spread actual (226942.0) es mayor que el spread de alerta (200000.0).\n"
     ]
    }
   ],
   "source": [
    "def obtener_alerta():\n",
    "    try:\n",
    "        with open('spread_alerta.txt', 'r') as file:\n",
    "            spread_alerta = float(file.read())\n",
    "        return spread_alerta\n",
    "    except FileNotFoundError:\n",
    "        return None\n",
    "    except Exception as e:\n",
    "        print(f\"Error al leer: {e}\")\n",
    "        return None\n",
    "\n",
    "def guardar_alerta(ejemplo_market,limite):\n",
    "    try:\n",
    "        with open('spread_alerta.txt', 'w') as file:\n",
    "            file.write(str(limite))\n",
    "        print(f\"Spread de alerta guardado para {ejemplo_market}: alerta de {limite}.\")\n",
    "    except Exception as e:\n",
    "        print(f\"Error al guardar: {e}\")\n",
    "\n",
    "def realizar_polling(market_id,tiempo):\n",
    "    while True:\n",
    "        spread_actual = spread_market(market_id)\n",
    "        spread_alerta = obtener_alerta()\n",
    "\n",
    "        if spread_actual is not None and spread_alerta is not None:\n",
    "            if spread_actual > spread_alerta:\n",
    "                print(f\"¡Alerta! El spread actual ({spread_actual}) es mayor que el spread de alerta ({spread_alerta}).\")\n",
    "            elif spread_actual < spread_alerta:\n",
    "                print(f\"¡Alerta! El spread actual ({spread_actual}) es menor que el spread de alerta ({spread_alerta}).\")\n",
    "\n",
    "        time.sleep(tiempo)\n",
    "\n",
    "# Ejemplo de uso\n",
    "ejemplo_market = 'btc-clp'\n",
    "limite = 200000\n",
    "tiempo=60\n",
    "\n",
    "guardar_alerta(ejemplo_market,limite)\n",
    "realizar_polling(ejemplo_market,tiempo)\n"
   ]
  }
 ],
 "metadata": {
  "kernelspec": {
   "display_name": "Python 3",
   "language": "python",
   "name": "python3"
  },
  "language_info": {
   "codemirror_mode": {
    "name": "ipython",
    "version": 3
   },
   "file_extension": ".py",
   "mimetype": "text/x-python",
   "name": "python",
   "nbconvert_exporter": "python",
   "pygments_lexer": "ipython3",
   "version": "3.11.7"
  }
 },
 "nbformat": 4,
 "nbformat_minor": 2
}
